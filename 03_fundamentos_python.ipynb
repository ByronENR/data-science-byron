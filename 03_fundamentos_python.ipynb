{
 "cells": [
  {
   "cell_type": "markdown",
   "id": "bbd65826-dc71-4a85-a6d4-cf9bff4b6005",
   "metadata": {},
   "source": [
    "## 🧪 Ejercicio: Clasificar Números Pares e Impares\n",
    "\n",
    "### 🎯 Objetivo\n",
    "\n",
    "Solicitar al usuario una lista de números separados por comas, convertirlos a enteros, clasificarlos en pares e impares, y mostrar la cantidad total de números, así como las listas de pares e impares.\n",
    "\n",
    "### 🧠 Conceptos Aplicados\n",
    "\n",
    "- Entrada de datos con `input()`\n",
    "- Manipulación de cadenas con `split()` y `strip()`\n",
    "- Conversión de tipos con `int()`\n",
    "- Uso de listas y condicionales `if`\n",
    "- Operador módulo `%` para determinar paridad\n",
    "- Funciones `len()` y `append()`"
   ]
  },
  {
   "cell_type": "markdown",
   "id": "0166a2c4-0974-42a5-990f-e48ed0a24e7e",
   "metadata": {},
   "source": [
    "🔸 Versión Inicial (mi intento)"
   ]
  },
  {
   "cell_type": "code",
   "execution_count": null,
   "id": "ff98fd6e-4f32-4e46-b078-ec8aa04d0c33",
   "metadata": {},
   "outputs": [],
   "source": [
    "ingreso_numeros = input(\"Ingrese una lista de numeros (separados por comas): \")\n",
    "numeros_enteros = [int(num.strip()) for num in ingreso_numeros.split(',')]\n",
    "\n",
    "suma_total = 0\n",
    "conteo_pares = 0\n",
    "conteo_impares = 0\n",
    "\n",
    "for numeros_div in numeros_enteros:\n",
    "    suma_total += 1\n",
    "\n",
    "    if numeros_div % 2 == 0:\n",
    "        print(f\"{numeros_div} es par\")\n",
    "        conteo_pares += 1\n",
    "    else: \n",
    "        print(f\"{numeros_div} es impar\")\n",
    "        conteo_impares += 1\n",
    "\n",
    "print(f\"La suma de todos los números ingresados es: {suma_total}\")\n",
    "print(f\"La suma total de numeros pares es: {conteo_pares}\")\n",
    "print(f\"La suma total de números impares es: {conteo_impares}\")"
   ]
  },
  {
   "cell_type": "markdown",
   "id": "09079663-a456-434c-b456-d6c5bd5563e8",
   "metadata": {},
   "source": [
    "Versión Mejorada (optimizada y clara)"
   ]
  },
  {
   "cell_type": "code",
   "execution_count": null,
   "id": "08ab4bca-9e49-436a-b6ad-a4444049c0fc",
   "metadata": {},
   "outputs": [],
   "source": [
    "ingreso_numeros = input(\"Ingrese una lista de números (separados por comas): \")\n",
    "numeros_enteros = [int(num.strip()) for num in ingreso_numeros.split(',')]\n",
    "\n",
    "pares = []\n",
    "impares = []\n",
    "\n",
    "for numero in numeros_enteros:\n",
    "    if numero % 2 == 0:\n",
    "        pares.append(numero)\n",
    "        print(f\"{numero} es par\")\n",
    "    else:\n",
    "        impares.append(numero)\n",
    "        print(f\"{numero} es impar\")\n",
    "\n",
    "print(f\"\\nTotal de números ingresados: {len(numeros_enteros)}\")\n",
    "print(f\"Números pares: {pares} (Cantidad: {len(pares)})\")\n",
    "print(f\"Números impares: {impares} (Cantidad: {len(impares)})\")"
   ]
  },
  {
   "cell_type": "markdown",
   "id": "2f4cf661-df40-4337-bca0-ae133dc0ed1a",
   "metadata": {},
   "source": [
    "### 📌 Ejemplo de Ejecución\n",
    "Ingrese una lista de números (separados por comas): 4, 7, 12, 9, 3\n",
    "4 es par\n",
    "7 es impar\n",
    "12 es par\n",
    "9 es impar\n",
    "3 es impar\n",
    "\n",
    "Total de números ingresados: 5\n",
    "Números pares: [4, 12] (Cantidad: 2)\n",
    "Números impares: [7, 9, 3] (Cantidad: 3)"
   ]
  }
 ],
 "metadata": {
  "kernelspec": {
   "display_name": "Python 3 (ipykernel)",
   "language": "python",
   "name": "python3"
  },
  "language_info": {
   "codemirror_mode": {
    "name": "ipython",
    "version": 3
   },
   "file_extension": ".py",
   "mimetype": "text/x-python",
   "name": "python",
   "nbconvert_exporter": "python",
   "pygments_lexer": "ipython3",
   "version": "3.12.9"
  }
 },
 "nbformat": 4,
 "nbformat_minor": 5
}
