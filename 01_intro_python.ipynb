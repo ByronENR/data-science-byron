{
 "cells": [
  {
   "cell_type": "code",
   "execution_count": null,
   "id": "c0d87cea-6d47-4cae-8feb-efab67323dc7",
   "metadata": {},
   "outputs": [],
   "source": [
    "01_intro_python.ipynb"
   ]
  },
  {
   "cell_type": "code",
   "execution_count": 4,
   "id": "35469c01-1466-407f-b68b-090b36f4c2f8",
   "metadata": {},
   "outputs": [
    {
     "name": "stdout",
     "output_type": "stream",
     "text": [
      "Byron 39 True 1.78\n"
     ]
    }
   ],
   "source": [
    "# Variables básicas\n",
    "nombre = \"Byron\"\n",
    "edad = 39\n",
    "es_data_scientist = True\n",
    "altura = 1.78\n",
    "\n",
    "print (nombre, edad, es_data_scientist, altura)"
   ]
  },
  {
   "cell_type": "code",
   "execution_count": 5,
   "id": "daab7064-c40e-4184-87f5-6f88d205ce86",
   "metadata": {},
   "outputs": [
    {
     "name": "stdout",
     "output_type": "stream",
     "text": [
      "Lenguajes: ['Python', 'SQL', 'R']\n",
      "Perfil: {'nombre': 'Byron', 'edad': 39, 'meta': 'Convertirse en Data scientist'}\n"
     ]
    }
   ],
   "source": [
    "# Lista de lenguajes\n",
    "lenguajes = [\"Python\", \"SQL\", \"R\"]\n",
    "print(\"Lenguajes:\", lenguajes)\n",
    "# Diccionario de perfil\n",
    "perfil = {\n",
    "    \"nombre\": \"Byron\",\n",
    "    \"edad\": 39,\n",
    "    \"meta\": \"Convertirse en Data scientist\"}\n",
    "\n",
    "print(\"Perfil:\", perfil)"
   ]
  },
  {
   "cell_type": "code",
   "execution_count": 6,
   "id": "2fe59341-ae7c-4186-90ad-f56a9382ce09",
   "metadata": {},
   "outputs": [
    {
     "name": "stdout",
     "output_type": "stream",
     "text": [
      "¡Byron ya esta en camino a ser un Data Scientist!\n"
     ]
    }
   ],
   "source": [
    "#Evaluando si estás listo para ser Data Scientist\n",
    "if es_data_scientist:\n",
    "    print(\"¡Byron ya esta en camino a ser un Data Scientist!\")\n",
    "else:\n",
    "    print(\"¡Hora de comenzar el viaje!\")"
   ]
  },
  {
   "cell_type": "code",
   "execution_count": 7,
   "id": "ff7b852b-1be0-44a3-bea2-1f8b4d9609b5",
   "metadata": {},
   "outputs": [
    {
     "name": "stdout",
     "output_type": "stream",
     "text": [
      "Puedes aplicar a cualquier beca de Data Science en el mundo 🌍\n"
     ]
    }
   ],
   "source": [
    "#  Verificar si Byron tiene edad suficiente para aplicar a una beca de estudios\n",
    "if edad >= 18:\n",
    "    print(\"Puedes aplicar a cualquier beca de Data Science en el mundo 🌍\")\n",
    "else:\n",
    "    print(\"Aún no puedes aplicar.\")"
   ]
  },
  {
   "cell_type": "code",
   "execution_count": null,
   "id": "e58d17fe-b37f-4b8c-b774-323dbb978ffb",
   "metadata": {},
   "outputs": [
    {
     "name": "stdin",
     "output_type": "stream",
     "text": [
      "¿Como te llamas?: Byron\n"
     ]
    }
   ],
   "source": [
    "# Mini-Reto 1: Tu Identidad como Data Scientist\n",
    "#Crea un pequeño programa que:\n",
    "#Pregunte tu nombre y edad (usando input()).\n",
    "#Calcule cuántos años te faltan para cumplir 100.\n",
    "#Imprima un mensaje personalizado como:\n",
    "#“Hola xxxxx, te faltan 61 años para llegar a los 100 🎉”\n",
    "\n",
    "nombre = input(\"¿Como te llamas?:\")\n",
    "edad = int(input(\"¿Cuantos años tienes?\"))\n",
    "\n",
    "falta_para_100 = 100 - edad\n",
    "\n",
    "print(f\"hola {nombre}, te faltan {falta_para_100} años para llegar a los 100 🎉\")"
   ]
  },
  {
   "cell_type": "code",
   "execution_count": null,
   "id": "4b83dd46-7625-4e0f-b2f1-56e3b0c6cabc",
   "metadata": {},
   "outputs": [],
   "source": []
  }
 ],
 "metadata": {
  "kernelspec": {
   "display_name": "Python 3 (ipykernel)",
   "language": "python",
   "name": "python3"
  },
  "language_info": {
   "codemirror_mode": {
    "name": "ipython",
    "version": 3
   },
   "file_extension": ".py",
   "mimetype": "text/x-python",
   "name": "python",
   "nbconvert_exporter": "python",
   "pygments_lexer": "ipython3",
   "version": "3.12.9"
  }
 },
 "nbformat": 4,
 "nbformat_minor": 5
}
