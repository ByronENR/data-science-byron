{
 "cells": [
  {
   "cell_type": "markdown",
   "id": "26191793-0cc9-43d9-bb6b-0314f1cb9b30",
   "metadata": {},
   "source": [
    "# Definimos el inventario base con diccionario\n",
    "depende de los items que queramos agregar al inventario en este caso solo 2\n",
    "dejamos los datos del precio fijos(tupla) en este ejemplo "
   ]
  },
  {
   "cell_type": "code",
   "execution_count": null,
   "id": "9e2036c4-e1a3-4fc2-9d09-9cdc83d58157",
   "metadata": {},
   "outputs": [],
   "source": [
    "inventario = {\n",
    "    \"frutas\": [],\n",
    "    \"verduras\": []\n",
    "}"
   ]
  },
  {
   "cell_type": "markdown",
   "id": "188eebab-bc33-4082-a22b-defa42c52f4d",
   "metadata": {},
   "source": [
    "# Funcion para agregar productos al inventario"
   ]
  },
  {
   "cell_type": "code",
   "execution_count": null,
   "id": "855daba1-d2ba-47a7-8f24-c3e651040c70",
   "metadata": {},
   "outputs": [],
   "source": [
    "def agregar_producto(categoria, nombre, precio, cantidad):\n",
    "    producto = (nombre.lower(), float(precio), int(cantidad))\n",
    "\n",
    "    if categoria in inventario:\n",
    "        inventario[categoria].append(producto)\n",
    "        print(f\"Producto agregado a {categoria}: {producto}\")\n",
    "    else:\n",
    "        print(\"Categoria no encontrada.\")"
   ]
  },
  {
   "cell_type": "markdown",
   "id": "1f7b80ad-ce49-4d84-b3b6-3bcd4eb25f10",
   "metadata": {},
   "source": [
    "# Agregamos algunos productos para probar"
   ]
  },
  {
   "cell_type": "code",
   "execution_count": null,
   "id": "285e47fa-b126-4ce2-a9cd-2bc37277fbca",
   "metadata": {},
   "outputs": [],
   "source": [
    "agregar_producto(\"frutas\", \"Manzana\", 1500, 10)\n",
    "agregar_producto(\"frutas\", \"Banano\", 800, 20)\n",
    "agregar_producto(\"verduras\", \"Zanahoria\", 500, 15)"
   ]
  },
  {
   "cell_type": "markdown",
   "id": "be8b58d2-b9b4-4a55-8777-3766d1b55f0d",
   "metadata": {},
   "source": [
    "# Mostrar el inventario completo"
   ]
  },
  {
   "cell_type": "code",
   "execution_count": null,
   "id": "cccea79f-f39d-4c77-b131-c28bb54a40e6",
   "metadata": {},
   "outputs": [],
   "source": [
    "def mostrar_inventario():\n",
    "    for categoria, productos in inventario.items():\n",
    "        print(f\"\\nCategoria: {categoria.upper()} \")\n",
    "        for producto in productos:\n",
    "            nombre, precio, cantidad = producto\n",
    "            print(f\"- {nombre} | Precio:{precio} | Cantidad:{cantidad}\")\n",
    "\n",
    "mostrar_inventario()"
   ]
  },
  {
   "cell_type": "markdown",
   "id": "f38a2066-9ff3-4a0d-954f-5e8f6a40ef77",
   "metadata": {},
   "source": [
    "# manipulacion de datos "
   ]
  },
  {
   "cell_type": "code",
   "execution_count": null,
   "id": "b6cf9c1c-f74a-48bc-bb86-b49bea2c055e",
   "metadata": {},
   "outputs": [],
   "source": [
    "def calcular_totales():\n",
    "    for categoria, productos in inventario.items():\n",
    "        total_categoria = sum(precio * cantidad for _, precio, cantidad in productos)\n",
    "        print(f\"Total en {categoria}: ${total_categoria:,.0f}\")"
   ]
  }
 ],
 "metadata": {
  "kernelspec": {
   "display_name": "Python 3 (ipykernel)",
   "language": "python",
   "name": "python3"
  },
  "language_info": {
   "codemirror_mode": {
    "name": "ipython",
    "version": 3
   },
   "file_extension": ".py",
   "mimetype": "text/x-python",
   "name": "python",
   "nbconvert_exporter": "python",
   "pygments_lexer": "ipython3",
   "version": "3.12.9"
  }
 },
 "nbformat": 4,
 "nbformat_minor": 5
}
