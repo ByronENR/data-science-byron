{
 "cells": [
  {
   "cell_type": "code",
   "execution_count": 1,
   "id": "955482f4-156d-4ca6-8d1d-a158822a0516",
   "metadata": {},
   "outputs": [
    {
     "name": "stdout",
     "output_type": "stream",
     "text": [
      "Ahorro mensual: 1900000\n",
      "Porcentaje de ahorro: 59.375 %\n"
     ]
    }
   ],
   "source": [
    "# Números y operaciones matemáticas\n",
    "ingresos = 3200000\n",
    "gastos = 1300000\n",
    "ahorro_mensual = ingresos - gastos\n",
    "porcentaje_ahorro = (ahorro_mensual / ingresos) * 100\n",
    "\n",
    "print(\"Ahorro mensual:\", ahorro_mensual)\n",
    "print(\"Porcentaje de ahorro:\", porcentaje_ahorro, \"%\")"
   ]
  },
  {
   "cell_type": "code",
   "execution_count": 5,
   "id": "3754ccb5-7b76-402d-96ba-19221ea39161",
   "metadata": {},
   "outputs": [
    {
     "name": "stdout",
     "output_type": "stream",
     "text": [
      "Hola, soy Federico y estoy en entrenamiento como CONSTRUCTOR\n"
     ]
    }
   ],
   "source": [
    "# Strings y concatenación\n",
    "nombre = \"Federico\"\n",
    "rol = \"constructor\"\n",
    "\n",
    "mensaje = f\"Hola, soy {nombre} y estoy en entrenamiento como {rol.upper()}\"\n",
    "print(mensaje)"
   ]
  },
  {
   "cell_type": "code",
   "execution_count": 6,
   "id": "0d8b0649-244b-4a1d-b4b0-10cd810f9606",
   "metadata": {},
   "outputs": [
    {
     "name": "stdout",
     "output_type": "stream",
     "text": [
      "Andres va a dominar: Python\n",
      "Andres va a dominar: SQL\n",
      "Andres va a dominar: R\n",
      "Andres va a dominar: Julia\n"
     ]
    }
   ],
   "source": [
    "#  FOR – Recorriendo listas\n",
    "lenguajes = [\"Python\", \"SQL\", \"R\", \"Julia\"]\n",
    "\n",
    "for lenguaje in lenguajes:\n",
    "    print(f\"Andres va a dominar: {lenguaje}\")"
   ]
  },
  {
   "cell_type": "code",
   "execution_count": 7,
   "id": "3779e407-638d-46e6-b847-3374d37fe34a",
   "metadata": {},
   "outputs": [
    {
     "name": "stdout",
     "output_type": "stream",
     "text": [
      "Intento 1 de ser imparable\n",
      "Intento 2 de ser imparable\n",
      "Intento 3 de ser imparable\n"
     ]
    }
   ],
   "source": [
    "# WHILE – Repetición controlada\n",
    "contador = 1\n",
    "while contador <= 3:\n",
    "    print(f\"Intento {contador} de ser imparable\")\n",
    "    contador += 1"
   ]
  },
  {
   "cell_type": "code",
   "execution_count": 8,
   "id": "8aa678aa-a39d-4cd1-9598-e4ea92fa670d",
   "metadata": {},
   "outputs": [
    {
     "name": "stdout",
     "output_type": "stream",
     "text": [
      "15 es menor de edad ❌\n",
      "18 es mayor de edad ✅\n",
      "22 es mayor de edad ✅\n",
      "17 es menor de edad ❌\n",
      "35 es mayor de edad ✅\n"
     ]
    }
   ],
   "source": [
    "# IF dentro de un bucle\n",
    "edades = [15, 18, 22, 17, 35]\n",
    "\n",
    "for edad in edades:\n",
    "    if edad >= 18:\n",
    "        print(f\"{edad} es mayor de edad ✅\")\n",
    "    else:\n",
    "        print(f\"{edad} es menor de edad ❌\")"
   ]
  },
  {
   "cell_type": "code",
   "execution_count": 9,
   "id": "7156d293-29e9-4ff4-b946-28f745d1f84b",
   "metadata": {},
   "outputs": [
    {
     "name": "stdout",
     "output_type": "stream",
     "text": [
      "Hola, Pedro !Bienvenido al entrenamiento!\n"
     ]
    }
   ],
   "source": [
    "# 3. FUNCIONES PERSONALIZADAS – Poder en tus manos\n",
    "#Las funciones te permiten crear bloques de lógica reutilizable, como tus propias herramientas ejemplo:\n",
    "def saludar(nombre):\n",
    "    print(f\"Hola, {nombre} !Bienvenido al entrenamiento!\")\n",
    "\n",
    "saludar(\"Pedro\")"
   ]
  },
  {
   "cell_type": "code",
   "execution_count": 10,
   "id": "a3fff423-fe73-4245-929c-6b5f13f95559",
   "metadata": {},
   "outputs": [
    {
     "name": "stdout",
     "output_type": "stream",
     "text": [
      "Ahorro: 1900000\n",
      "Porcentaje de ahorro: 59.375 %\n"
     ]
    }
   ],
   "source": [
    "# Función que calcula el ahorro mensual\n",
    "def calcular_ahorro(ingresos, gastos):\n",
    "    ahorro = ingresos - gastos\n",
    "    porcentaje = (ahorro / ingresos) * 100\n",
    "    return ahorro, porcentaje\n",
    "\n",
    "mi_ahorro, mi_porcentaje =calcular_ahorro(3200000, 1300000)\n",
    "\n",
    "print(\"Ahorro:\", mi_ahorro)\n",
    "print(\"Porcentaje de ahorro:\", mi_porcentaje, \"%\")"
   ]
  },
  {
   "cell_type": "markdown",
   "id": "01912b19-36d5-4d78-9eb7-fc8eb1399a3c",
   "metadata": {},
   "source": [
    "# 🍽️ Calculadora de Calorías Diarias en Python"
   ]
  },
  {
   "cell_type": "markdown",
   "id": "125a8f7f-469a-49b6-958b-20b2cf05e8c3",
   "metadata": {},
   "source": [
    "Este notebook permite calcular el total de calorías consumidas en un día,  \n",
    "basado en los alimentos ingresados por el usuario (desayuno, almuerzo y cena).\n",
    "\n",
    "Utiliza una tabla de alimentos comunes y sus valores calóricos aproximados."
   ]
  },
  {
   "cell_type": "markdown",
   "id": "07204ecf-f482-45a6-95ed-a7b257f422d6",
   "metadata": {},
   "source": [
    "## 👣 Instrucciones\n",
    "\n",
    "1. El programa te pedirá que ingreses los alimentos que comiste en cada comida.\n",
    "2. Puedes ingresar varios alimentos separados por comas.\n",
    "3. No importa si usas mayúsculas o tildes, el sistema lo normaliza.\n",
    "4. Al final, te dirá cuántas calorías consumiste en total."
   ]
  },
  {
   "cell_type": "markdown",
   "id": "47c27da9-08ea-4e1c-a381-f099d9f690bc",
   "metadata": {},
   "source": [
    "## 🧠 ¿Cómo funciona?\n",
    "\n",
    "- Se usa una función `normalizar()` para convertir todo a minúsculas y quitar tildes.\n",
    "- Se tiene un diccionario llamado `tabla_calorica` con alimentos y sus calorías.\n",
    "- El usuario ingresa su comida del día, se procesan los alimentos y se suman las calorías."
   ]
  },
  {
   "cell_type": "markdown",
   "id": "c20dd5f4-b7cd-4061-a2e6-326797d865a3",
   "metadata": {},
   "source": [
    "## ✅ Ejemplo de uso\n",
    "¿Qué comiste en el desayuno? huevo, pan, leche\n",
    "¿Qué comiste en el almuerzo? arroz, pollo, ensalada\n",
    "¿Qué comiste en la cena? manzana, yogur"
   ]
  },
  {
   "cell_type": "markdown",
   "id": "685ee736-9904-4343-a300-9e083f1ab1fd",
   "metadata": {},
   "source": [
    "Resultado:\n",
    "Consumiste un total de 655 calorías hoy"
   ]
  },
  {
   "cell_type": "code",
   "execution_count": null,
   "id": "804a61f1-ac23-4352-b9f8-182dd3508d22",
   "metadata": {},
   "outputs": [],
   "source": [
    "# Mini-Proyecto: Calculadora de Calorías Diarias\n",
    "import unicodedata\n",
    "\n",
    "def normalizar(texto):\n",
    "    texto = texto.lower()\n",
    "    texto = unicodedata.normalize('NFD', texto)\n",
    "    texto = ''.join([c for c in texto if unicodedata.category(c) != 'Mn'])\n",
    "    return texto.strip()\n",
    "\n",
    "def calcular_calorias():\n",
    "    tabla_calorica = {\n",
    "        \"huevo\": 155,\n",
    "        \"manzana\": 52,\n",
    "        \"piña\": 55,\n",
    "        \"albaricoque\": 43,\n",
    "        \"pera\": 55,\n",
    "        \"plátano\": 88,\n",
    "        \"arándanos\": 35,\n",
    "        \"higo\": 107,\n",
    "        \"pomelo\": 50,\n",
    "        \"granada\": 74,\n",
    "        \"escaramujo\": 162,\n",
    "        \"melón\": 54,\n",
    "        \"frambuesas\": 36,\n",
    "        \"jengibre\":\t80,\n",
    "        \"berenjena\": 24,\n",
    "        \"alcachofa\": 47,\n",
    "        \"aguacate\":\t160,\n",
    "        \"coliflor\":\t25,\n",
    "        \"brócoli\": 35,\n",
    "        \"judías\": 25,\n",
    "        \"zanahoria\": 36,\n",
    "        \"patata\": 86,\n",
    "        \"remolacha\": 43,\n",
    "        \"espinacas\": 23,\n",
    "        \"pechuga\": 75,\n",
    "        \"ternera\": 94,\n",
    "        \"cordero\": 178,\n",
    "        \"pechuga de pavo\": 111,\n",
    "        \"carne\": 143,\n",
    "        \"carne de cerdo\": 253,\n",
    "        \"trucha\": 50,\n",
    "        \"salmon\": 137,\n",
    "        \"atún\":\t144,\n",
    "        \"queso\": 382,\n",
    "        \"leche\": 47,\n",
    "        \"yogur\": 62,\n",
    "        \"queso\": 273,\n",
    "        \"pan\": 290,\n",
    "        \"lechuga\": 14,\n",
    "        \"pepino\": 15,\n",
    "        \"espárragos\": 18,\n",
    "        \"calabacín\": 20,\n",
    "        \"champiñones\": 22,\n",
    "        \"espinacas\": 23,\n",
    "        \"coliflor\":\t25,}\n",
    "    \n",
    "    total = 0\n",
    "\n",
    "    for pregunta in [\"desayuno\", \"almuerzo\", \"cena\"]:\n",
    "        respuesta_usuario = input(f\"¿Qué comiste en el {pregunta}? (si es mas de un alimento separado por comas):\")\n",
    "        alimentos = respuesta_usuario.split(\",\")\n",
    "\n",
    "        for comida in alimentos:\n",
    "            comida_normalizada = normalizar(comida)\n",
    "            if comida_normalizada in tabla_calorica:\n",
    "                total += tabla_calorica[comida_normalizada]\n",
    "            else:\n",
    "                print(f\"No tengo datos para: {comida.strip()}\")\n",
    "    \n",
    "    print(f\"\\nConsumiste un total de {total} calorias hoy\")\n",
    "\n",
    "calcular_calorias()"
   ]
  },
  {
   "cell_type": "code",
   "execution_count": null,
   "id": "00009de8-449f-4bbf-8796-31c221ce2776",
   "metadata": {},
   "outputs": [],
   "source": []
  },
  {
   "cell_type": "code",
   "execution_count": null,
   "id": "e874d4db-cb62-4178-a8bf-2d9c0dfb598c",
   "metadata": {},
   "outputs": [],
   "source": []
  }
 ],
 "metadata": {
  "kernelspec": {
   "display_name": "Python 3 (ipykernel)",
   "language": "python",
   "name": "python3"
  },
  "language_info": {
   "codemirror_mode": {
    "name": "ipython",
    "version": 3
   },
   "file_extension": ".py",
   "mimetype": "text/x-python",
   "name": "python",
   "nbconvert_exporter": "python",
   "pygments_lexer": "ipython3",
   "version": "3.12.9"
  }
 },
 "nbformat": 4,
 "nbformat_minor": 5
}
